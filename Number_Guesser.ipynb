{
  "nbformat": 4,
  "nbformat_minor": 0,
  "metadata": {
    "colab": {
      "provenance": []
    },
    "kernelspec": {
      "name": "python3",
      "display_name": "Python 3"
    },
    "language_info": {
      "name": "python"
    }
  },
  "cells": [
    {
      "cell_type": "code",
      "execution_count": null,
      "metadata": {
        "id": "SSxcH69C3pqu"
      },
      "outputs": [],
      "source": [
        "import random\n",
        "import math"
      ]
    },
    {
      "cell_type": "code",
      "source": [
        "lb = int(input(\"Enter lower range: \"))\n",
        "ub = int(input(\"Enter upper range: \"))\n",
        "\n",
        "x = random.randint(lb, ub)\n",
        "maxguess = round(math.log(ub - lb + 1), 0)\n",
        "\n",
        "print(\"You only have \", maxguess, \"chances to guess this number!\")"
      ],
      "metadata": {
        "colab": {
          "base_uri": "https://localhost:8080/"
        },
        "id": "-Ch2rpsS_faR",
        "outputId": "6bb114b6-c373-494e-e560-9199332c56b8"
      },
      "execution_count": null,
      "outputs": [
        {
          "output_type": "stream",
          "name": "stdout",
          "text": [
            "Enter lower range: 10\n",
            "Enter upper range: 50\n",
            "You only have  4.0 chances to guess this number!\n"
          ]
        }
      ]
    },
    {
      "cell_type": "code",
      "source": [
        "count = 0\n",
        "\n",
        "while count < maxguess:\n",
        "  count += 1\n",
        "  guess = int(input(\"Guess a number!!!!!!: \"))\n",
        "  if x == guess:\n",
        "    print(\"Congratulations?? You think you're so smart? It really took you\", count, \"tries to get it??\")\n",
        "    break\n",
        "  elif x < guess:\n",
        "    print(\"CALM DOWN BUDDY JEEZ IT'S NOT THAT BIG!!\")\n",
        "  elif x > guess:\n",
        "    print(\"WHAT WHY IN THE WORLD WOULD IT BE THAT SMALL???\")\n",
        "\n",
        "if count >= maxguess:\n",
        "  print(\"HAHAHAHH HOW IS IT THIS POSSIBLE TO BE THIS BAD AT SOMETHING? THE NUMBER WAS LITERALLY\", x)\n"
      ],
      "metadata": {
        "colab": {
          "base_uri": "https://localhost:8080/"
        },
        "id": "yREF32XJ_86v",
        "outputId": "ac5f8069-2de4-4eec-df14-93969d2409b6"
      },
      "execution_count": null,
      "outputs": [
        {
          "output_type": "stream",
          "name": "stdout",
          "text": [
            "Guess a number!!!!!!: 30\n",
            "CALM DOWN BUDDY JEEZ IT'S NOT THAT BIG!!\n",
            "Guess a number!!!!!!: 20\n",
            "WHAT WHY IN THE WORLD WOULD IT BE THAT SMALL???\n",
            "Guess a number!!!!!!: 25\n",
            "WHAT WHY IN THE WORLD WOULD IT BE THAT SMALL???\n"
          ]
        }
      ]
    }
  ]
}